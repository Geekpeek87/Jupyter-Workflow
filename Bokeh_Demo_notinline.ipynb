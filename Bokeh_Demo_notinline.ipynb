{
 "cells": [
  {
   "cell_type": "code",
   "execution_count": 12,
   "metadata": {
    "collapsed": true
   },
   "outputs": [],
   "source": [
    "import pandas as pd\n",
    "from bokeh.io import output_file, show\n",
    "from bokeh.charts import Scatter, BoxPlot, Line \n",
    "from bokeh.layouts import row, column, gridplot"
   ]
  },
  {
   "cell_type": "code",
   "execution_count": 13,
   "metadata": {
    "collapsed": true
   },
   "outputs": [],
   "source": [
    "df = pd.read_csv('http://bit.ly/drinksbycountry')"
   ]
  },
  {
   "cell_type": "code",
   "execution_count": 14,
   "metadata": {
    "collapsed": true
   },
   "outputs": [],
   "source": [
    "beer_box = BoxPlot(df, values='beer_servings', label='continent', color='continent', title='Beer Servings by Continent')"
   ]
  },
  {
   "cell_type": "code",
   "execution_count": 15,
   "metadata": {
    "collapsed": true
   },
   "outputs": [],
   "source": [
    "wine_box = BoxPlot(df, values='wine_servings', label='continent', color='continent', title='Wine Servings by Continent')"
   ]
  },
  {
   "cell_type": "code",
   "execution_count": 16,
   "metadata": {
    "collapsed": true
   },
   "outputs": [],
   "source": [
    "spirit_box = BoxPlot(df, values='spirit_servings', label='continent', color='continent', title='Spirit Servings by Continent')"
   ]
  },
  {
   "cell_type": "code",
   "execution_count": 17,
   "metadata": {
    "collapsed": true
   },
   "outputs": [],
   "source": [
    "alcohol_box = BoxPlot(df, values='total_litres_of_pure_alcohol', label='continent', color='continent', title='Pure Alcohol by Continent')"
   ]
  },
  {
   "cell_type": "code",
   "execution_count": 18,
   "metadata": {
    "collapsed": true
   },
   "outputs": [],
   "source": [
    "beer_wine = Scatter(df, x='beer_servings', y='wine_servings', title='Beer Vs Wine', color='continent', marker='continent')"
   ]
  },
  {
   "cell_type": "code",
   "execution_count": 19,
   "metadata": {
    "collapsed": true
   },
   "outputs": [],
   "source": [
    "beer_spirit = Scatter(df, x='beer_servings', y='spirit_servings', title='Beer Vs Spirit', color='continent', marker='continent')"
   ]
  },
  {
   "cell_type": "code",
   "execution_count": 20,
   "metadata": {
    "collapsed": true
   },
   "outputs": [],
   "source": [
    "wine_spirit = Scatter(df, x='wine_servings', y='spirit_servings', title='Wine Vs Spirit', color='continent', marker='continent')"
   ]
  },
  {
   "cell_type": "code",
   "execution_count": 21,
   "metadata": {},
   "outputs": [
    {
     "name": "stderr",
     "output_type": "stream",
     "text": [
      "C:\\ProgramData\\Anaconda3\\lib\\site-packages\\bokeh\\core\\json_encoder.py:73: FutureWarning: pandas.tslib is deprecated and will be removed in a future version.\n",
      "You can access Timestamp as pandas.Timestamp\n",
      "  if pd and isinstance(obj, pd.tslib.Timestamp):\n"
     ]
    }
   ],
   "source": [
    "from bokeh.models.widgets import Tabs, Panel\n",
    "Distributions = Panel(child=gridplot([[beer_box, wine_box], [spirit_box, alcohol_box]]), title='Distributions')\n",
    "Correlations = Panel(child=gridplot([[beer_wine, beer_spirit], [wine_spirit,None]]), title='Correlations')\n",
    "tabs = Tabs(tabs=[Distributions, Correlations])\n",
    "output_file('tabs.html')\n",
    "show(tabs)"
   ]
  }
 ],
 "metadata": {
  "kernelspec": {
   "display_name": "Python 3",
   "language": "python",
   "name": "python3"
  },
  "language_info": {
   "codemirror_mode": {
    "name": "ipython",
    "version": 3
   },
   "file_extension": ".py",
   "mimetype": "text/x-python",
   "name": "python",
   "nbconvert_exporter": "python",
   "pygments_lexer": "ipython3",
   "version": "3.6.1"
  }
 },
 "nbformat": 4,
 "nbformat_minor": 2
}
